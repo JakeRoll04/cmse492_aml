{
 "cells": [
  {
   "cell_type": "markdown",
   "id": "158e5845-54df-43a4-b867-d39288104dd4",
   "metadata": {},
   "source": [
    "# Decision Tree Regressor\n",
    "\n",
    "Purpose: load processed data, fit DecisionTree, evaluate with CV, tune max_depth/min_samples, and save model.\n"
   ]
  },
  {
   "cell_type": "markdown",
   "id": "b4d452e8-648e-4913-bf62-f3139d581b99",
   "metadata": {},
   "source": [
    "# Data Loading"
   ]
  },
  {
   "cell_type": "code",
   "execution_count": 1,
   "id": "2f58c415-1c1c-40e2-8cc8-ad2b6ccd2fa1",
   "metadata": {},
   "outputs": [
    {
     "name": "stdout",
     "output_type": "stream",
     "text": [
      "(16512, 24)\n"
     ]
    }
   ],
   "source": [
    "from pathlib import Path\n",
    "import pandas as pd\n",
    "\n",
    "ROOT = Path(\"..\")\n",
    "PROC = ROOT / \"data\" / \"train\" / \"housing_train_processed.csv\"\n",
    "df = pd.read_csv(PROC)\n",
    "y = df[\"median_house_value\"].values\n",
    "X = df.drop(columns=[\"median_house_value\"]).values\n",
    "print(X.shape)\n"
   ]
  },
  {
   "cell_type": "markdown",
   "id": "3b8b8628-e7bf-4d24-bce3-c3edcb7d2bcc",
   "metadata": {},
   "source": [
    "# Model Fitting"
   ]
  },
  {
   "cell_type": "code",
   "execution_count": 2,
   "id": "c1ab733e-668b-4b0d-821e-1b0812ae8683",
   "metadata": {},
   "outputs": [
    {
     "name": "stdout",
     "output_type": "stream",
     "text": [
      "Train R^2: 1.0\n"
     ]
    }
   ],
   "source": [
    "from sklearn.tree import DecisionTreeRegressor\n",
    "model = DecisionTreeRegressor(random_state=42)\n",
    "model.fit(X, y)\n",
    "print(\"Train R^2:\", model.score(X, y))\n"
   ]
  },
  {
   "cell_type": "markdown",
   "id": "e686e7f0-5db9-45bf-97d9-3cc93738369e",
   "metadata": {},
   "source": [
    "# Cross-Validation"
   ]
  },
  {
   "cell_type": "code",
   "execution_count": 3,
   "id": "19dbf96f-0825-4edb-8691-9df4b7ba84a6",
   "metadata": {},
   "outputs": [
    {
     "name": "stdout",
     "output_type": "stream",
     "text": [
      "CV RMSE: [67310.41355391 72700.01257318 71254.93828433 70287.70862284\n",
      " 70366.31853802]\n",
      "Mean RMSE: 70383.87831445671 ± 1765.1609538624925\n"
     ]
    }
   ],
   "source": [
    "from sklearn.model_selection import cross_val_score\n",
    "import numpy as np\n",
    "scores = cross_val_score(model, X, y, scoring=\"neg_mean_squared_error\", cv=5, n_jobs=-1)\n",
    "rmse = np.sqrt(-scores)\n",
    "print(\"CV RMSE:\", rmse)\n",
    "print(\"Mean RMSE:\", rmse.mean(), \"±\", rmse.std())\n"
   ]
  },
  {
   "cell_type": "markdown",
   "id": "beddb984-2ca0-4642-84fa-12e7323f879f",
   "metadata": {},
   "source": [
    "# Hyperparameter Tuning"
   ]
  },
  {
   "cell_type": "code",
   "execution_count": 4,
   "id": "9e368f2a-13af-49e4-8f61-c9eead5ba1ff",
   "metadata": {},
   "outputs": [
    {
     "name": "stdout",
     "output_type": "stream",
     "text": [
      "Best params: {'max_depth': 10, 'min_samples_leaf': 2, 'min_samples_split': 10}\n",
      "Best RMSE: 61071.34635840309\n"
     ]
    }
   ],
   "source": [
    "from sklearn.model_selection import GridSearchCV\n",
    "from sklearn.tree import DecisionTreeRegressor\n",
    "import numpy as np\n",
    "\n",
    "param_grid = {\n",
    "    \"max_depth\": [None, 10, 20],     # trimmed\n",
    "    \"min_samples_split\": [2, 10],    # trimmed\n",
    "    \"min_samples_leaf\": [1, 2],      # trimmed\n",
    "}\n",
    "\n",
    "gs = GridSearchCV(\n",
    "    DecisionTreeRegressor(random_state=42),\n",
    "    param_grid=param_grid,\n",
    "    scoring=\"neg_mean_squared_error\",\n",
    "    cv=3,            # fewer folds\n",
    "    n_jobs=1         # set to 1 on limited CPUs\n",
    ")\n",
    "gs.fit(X, y)\n",
    "\n",
    "print(\"Best params:\", gs.best_params_)\n",
    "print(\"Best RMSE:\", np.sqrt(-gs.best_score_))\n",
    "best_model = gs.best_estimator_\n"
   ]
  },
  {
   "cell_type": "markdown",
   "id": "25eaea9a-adc1-4b98-b7e0-2e579c28ebdd",
   "metadata": {},
   "source": [
    "# Model Saving"
   ]
  },
  {
   "cell_type": "code",
   "execution_count": 5,
   "id": "231a6505-47ef-4463-aa4e-88b91c0f52e3",
   "metadata": {},
   "outputs": [
    {
     "data": {
      "text/plain": [
       "PosixPath('decision_tree_model.pkl')"
      ]
     },
     "execution_count": 5,
     "metadata": {},
     "output_type": "execute_result"
    }
   ],
   "source": [
    "import joblib, pathlib\n",
    "final_model = best_model if \"best_model\" in locals() else model\n",
    "out = pathlib.Path(\".\") / \"decision_tree_model.pkl\"\n",
    "joblib.dump(final_model, out)\n",
    "out"
   ]
  },
  {
   "cell_type": "code",
   "execution_count": null,
   "id": "2f1be831-f056-417b-bb7a-4508270924ba",
   "metadata": {},
   "outputs": [],
   "source": []
  }
 ],
 "metadata": {
  "kernelspec": {
   "display_name": "Python 3.12 (default)",
   "language": "python",
   "name": "python3"
  },
  "language_info": {
   "codemirror_mode": {
    "name": "ipython",
    "version": 3
   },
   "file_extension": ".py",
   "mimetype": "text/x-python",
   "name": "python",
   "nbconvert_exporter": "python",
   "pygments_lexer": "ipython3",
   "version": "3.12.11"
  }
 },
 "nbformat": 4,
 "nbformat_minor": 5
}
