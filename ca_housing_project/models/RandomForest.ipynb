{
 "cells": [
  {
   "cell_type": "markdown",
   "id": "f702a474-edf9-4344-86f7-12293533f22e",
   "metadata": {},
   "source": [
    "# Random Forest Regressor\n",
    "\n",
    "Purpose: load processed data, fit RandomForest, evaluate with CV, tune key hyperparameters, and save model.\n"
   ]
  },
  {
   "cell_type": "markdown",
   "id": "997b6504-e4c6-4cbf-b1ed-2db6be203422",
   "metadata": {},
   "source": [
    "# Data Loading"
   ]
  },
  {
   "cell_type": "code",
   "execution_count": 1,
   "id": "b3fb57b9-2c14-4a3c-a8ff-a88d2fcc5873",
   "metadata": {},
   "outputs": [
    {
     "name": "stdout",
     "output_type": "stream",
     "text": [
      "(16512, 24)\n"
     ]
    }
   ],
   "source": [
    "from pathlib import Path\n",
    "import pandas as pd\n",
    "\n",
    "ROOT = Path(\"..\")\n",
    "PROC = ROOT / \"data\" / \"train\" / \"housing_train_processed.csv\"\n",
    "df = pd.read_csv(PROC)\n",
    "y = df[\"median_house_value\"].values\n",
    "X = df.drop(columns=[\"median_house_value\"]).values\n",
    "print(X.shape)\n"
   ]
  },
  {
   "cell_type": "markdown",
   "id": "0234c946-e555-468a-9aeb-51264d129304",
   "metadata": {},
   "source": [
    "# Model Fitting"
   ]
  },
  {
   "cell_type": "code",
   "execution_count": 2,
   "id": "dd54d7e1-91f5-40f2-98d4-93e2d1b98a4b",
   "metadata": {},
   "outputs": [
    {
     "name": "stdout",
     "output_type": "stream",
     "text": [
      "Train R^2: 0.974453572649535\n"
     ]
    }
   ],
   "source": [
    "from sklearn.ensemble import RandomForestRegressor\n",
    "model = RandomForestRegressor(random_state=42)\n",
    "model.fit(X, y)\n",
    "print(\"Train R^2:\", model.score(X, y))\n"
   ]
  },
  {
   "cell_type": "markdown",
   "id": "0be00722-02dd-4b14-9968-8a5120b347d3",
   "metadata": {},
   "source": [
    "# Cross-Validation"
   ]
  },
  {
   "cell_type": "code",
   "execution_count": 3,
   "id": "ea057629-0306-419d-847c-f946d1a758bf",
   "metadata": {},
   "outputs": [
    {
     "name": "stdout",
     "output_type": "stream",
     "text": [
      "CV RMSE: [49528.23694705 49143.73782072 49973.82756057 51031.49380669\n",
      " 50216.1774395 ]\n",
      "Mean RMSE: 49978.694714905665 ± 642.630979193054\n"
     ]
    }
   ],
   "source": [
    "from sklearn.model_selection import cross_val_score\n",
    "import numpy as np\n",
    "scores = cross_val_score(model, X, y, scoring=\"neg_mean_squared_error\", cv=5, n_jobs=-1)\n",
    "rmse = np.sqrt(-scores)\n",
    "print(\"CV RMSE:\", rmse)\n",
    "print(\"Mean RMSE:\", rmse.mean(), \"±\", rmse.std())\n"
   ]
  },
  {
   "cell_type": "markdown",
   "id": "f221926b-bdd4-405b-a322-f0d374f05675",
   "metadata": {},
   "source": [
    "# Hyperparameter Tuning"
   ]
  },
  {
   "cell_type": "code",
   "execution_count": 4,
   "id": "5f507636-0a63-4f14-b5b1-63a8fe9c0a1f",
   "metadata": {},
   "outputs": [
    {
     "name": "stdout",
     "output_type": "stream",
     "text": [
      "Best params: {'max_depth': None, 'max_features': 8, 'n_estimators': 200}\n",
      "Best RMSE: 49467.451813550775\n"
     ]
    }
   ],
   "source": [
    "from sklearn.model_selection import GridSearchCV\n",
    "from sklearn.ensemble import RandomForestRegressor\n",
    "import numpy as np\n",
    "\n",
    "param_grid = {\n",
    "    \"n_estimators\": [100, 200],   \n",
    "    \"max_depth\": [None, 15],   \n",
    "    \"max_features\": [8, 12]       \n",
    "}\n",
    "\n",
    "gs = GridSearchCV(\n",
    "    RandomForestRegressor(random_state=42, n_jobs=-1),\n",
    "    param_grid=param_grid,\n",
    "    scoring=\"neg_mean_squared_error\",\n",
    "    cv=3,     \n",
    "    n_jobs=-1\n",
    ")\n",
    "gs.fit(X, y)\n",
    "\n",
    "print(\"Best params:\", gs.best_params_)\n",
    "print(\"Best RMSE:\", np.sqrt(-gs.best_score_))\n",
    "best_model = gs.best_estimator_\n"
   ]
  },
  {
   "cell_type": "markdown",
   "id": "6ee86bbd-2ceb-41e9-a91e-c377431188eb",
   "metadata": {},
   "source": [
    "# Model Saving"
   ]
  },
  {
   "cell_type": "code",
   "execution_count": 5,
   "id": "6f87566e-289e-4e6c-af05-2d68371de302",
   "metadata": {},
   "outputs": [
    {
     "data": {
      "text/plain": [
       "PosixPath('random_forest_model.pkl')"
      ]
     },
     "execution_count": 5,
     "metadata": {},
     "output_type": "execute_result"
    }
   ],
   "source": [
    "import joblib, pathlib\n",
    "final_model = best_model if \"best_model\" in locals() else model\n",
    "out = pathlib.Path(\".\") / \"random_forest_model.pkl\"\n",
    "joblib.dump(final_model, out)\n",
    "out\n"
   ]
  },
  {
   "cell_type": "code",
   "execution_count": null,
   "id": "91c4e645-c417-4741-87c5-4ec36401b681",
   "metadata": {},
   "outputs": [],
   "source": []
  }
 ],
 "metadata": {
  "kernelspec": {
   "display_name": "Python 3.12 (default)",
   "language": "python",
   "name": "python3"
  },
  "language_info": {
   "codemirror_mode": {
    "name": "ipython",
    "version": 3
   },
   "file_extension": ".py",
   "mimetype": "text/x-python",
   "name": "python",
   "nbconvert_exporter": "python",
   "pygments_lexer": "ipython3",
   "version": "3.12.11"
  }
 },
 "nbformat": 4,
 "nbformat_minor": 5
}
