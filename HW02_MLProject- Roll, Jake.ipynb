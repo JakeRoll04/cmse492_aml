{
 "cells": [
  {
   "cell_type": "markdown",
   "metadata": {},
   "source": [
    "# Homework 02: End-to-End Machine Learning project \n",
    "\n",
    "### <p style=\"text-align: right;\"> &#9989; Roll, Jake\n",
    "<p style=\"text-align: right;\"> &#9989; Lamb, Josh; Frazier, Jared; Potts, Braedon;.\n",
    "\n",
    "![CA](https://miro.medium.com/max/671/1*f82SOgbdQOmY5DHmF0kdgw.png)\n",
    "\n"
   ]
  },
  {
   "cell_type": "markdown",
   "metadata": {},
   "source": [
    "## Learning Goals for this assignment\n",
    "\n",
    "* understand how to build and manage a real ML project, much like your project will be,\n",
    "* practice using some of the data science tools (e.g., Pandas),\n",
    "* learn some new tools that will help you in your project.\n",
    "\n",
    "**This assignment is due by 11:59 p.m. Sunday September 14,** and should be uploaded into the appropriate \"Homework\" submission folder on D2L.  Submission instructions can be found at the end of the notebook.\n",
    "\n",
    "\n",
    "**📚 Preparation:** Read Chapter 2 of the textbook and complete the following assignment"
   ]
  },
  {
   "cell_type": "markdown",
   "metadata": {},
   "source": [
    "### Instructions for Submitting Names in Notebooks\n",
    "\n",
    "Please follow the format below when typing your names in the notebook. \n",
    "\n",
    "- Each member's name must be written in the format:  \n",
    "  **Lamb, Josh; Frazier, Jared; Potts, Braedon;**\n",
    "\n",
    "#### Example:\n",
    "    Poe, Edgar Allan\n",
    "\n",
    "> ⚠️ **Failure to follow this format will result in a reduction of your grade.**"
   ]
  },
  {
   "cell_type": "markdown",
   "metadata": {},
   "source": [
    "---\n",
    "## Part 1: The Big Picture (16 points)\n",
    "\n",
    "The very first step in any kind of project is to understand the big picture. Why are you doing what your are doing? What are the implications of the outcomes? How does this project fit in the greater scheme of things? "
   ]
  },
  {
   "cell_type": "markdown",
   "metadata": {},
   "source": [
    "### Task Instructions\n",
    "\n",
    "**🗒️ Task: (16 points)** Answer the following questions based Chapter 2. Your responses should demonstrate understanding of the fundamental machine learning concepts covered in the reading.\n",
    "\n",
    "**Format Guidelines:**\n",
    "- Write your answers in complete sentences using clear, logical statements\n",
    "- Use your own words and demonstrate your understanding of the concepts\n",
    "- Avoid bullet points, single word answers, or list formats\n",
    "- Do not use AI tools to generate your responses\n",
    "- Each answer should flow logically and demonstrate critical thinking\n",
    "\n",
    "**Content Requirements:**\n",
    "- Base your answers on the concepts from Chapter 1, Chapter 2, and the slides from the lectures\n",
    "- Reference the GEPT paradigm (Goal-Experience-Performance-Test) discussed in class\n",
    "- Use proper machine learning terminology where appropriate\n",
    "- Show how the problem statement connects to the theoretical frameworks\n",
    "\n",
    "**Question 1 (4 points):** What is the goal of the project? What is the author trying to predict? Explain this in terms of the GEPT paradigm discussed in class, clearly identifying each component: Goal (task), Experience (dataset), Performance (accuracy measure/metric), and Test (separate data to test learning).\n",
    "\n",
    "**Question 2 (4 points):** Why do we need machine learning for this project? Analyze the current methodology's limitations and explain how machine learning can address these specific problems.\n",
    "\n",
    "**Question 3 (4 points):** How is the output of the machine learning model going to be used? Describe the role this prediction plays in the larger business context and explain why accuracy is critical.\n",
    "\n",
    "**Question 4 (4 points):** Using the key concepts from Chapter 1, classify this project. Determine whether it is supervised, semi-supervised, unsupervised, or reinforcement learning. Identify if it is regression or classification. Specify if it uses batch or online learning. Finally, determine if it represents instance-based or model-based learning. Provide reasoning for each classification.\n",
    "\n",
    "Submit your completed responses in the markdown cell below. Ensure that each answer demonstrates your understanding through well-reasoned explanations rather than memorized definitions. Your goal is to show that you can apply the theoretical concepts to a real-world scenario.\n"
   ]
  },
  {
   "cell_type": "markdown",
   "metadata": {
    "tags": [
     "text answer"
    ]
   },
   "source": [
    "✏️ **Answer:** \n",
    "*1. The goal/task of this project is to use California census data to build a model of housing prices in the states.  Metrics such as population, median income, and median housing price for each block group in California with help with this.  The author is trying to predict the median housing price in any district, given all the other metrics.  As for experience, the dataset comes from the California census data which contains features such as  population, median income, latitude and longitude, households, and other district level attributes. Every row is a district in the dataset, and the target variable is the median housing price for each block group in California. The performance is evaluated using Root mean squared error (RMSE) on models such as linear regression, decision tree regressor, and  random forest regressor.  To test, the data gets split into training and test sets.  The model is trained on the training set until the model is finalized, then the test set can be used.  Using the test set before your model is finalized can risk overfitting to the test set among other possible errors.  Cross-validation was also used to split the training data into smaller folds in order to determine the model's performance and whether or not it would be a wise decision to use that model.*\n",
    "\n",
    "*2. We need machine learning for this project because trying to model and create fixed equations would be too difficult and time consuming for this type of problem.  Machine learning easily takes care and identifies which relationships matter and which features will be most impactful for accurately predicting the median housing values of different California district.  Speaking on districts, there is a limitation there because it is difficult to model and generalize across diverse districts such as district near the coast and rural, inland districts.  Since these are so different it may be more challenging to try and create a model without machine learning for this.  We also need this machine learning model because it uses pipelines and many preprocessing techniques to help regularize our data in order for it to fit into a model that can be accurate.  Doing a lot of this work manually would be time-consuming and possibly not as effective.  Using machine learning techniques such as cross-validation also benefits our efforts greatly when attempting to solve this problem as it gives us more confidence in creating an accurate model that is trained on enough data.  Non-Machine learning techniques would also not be able to accurately update as the market changes and shifts in different directions, while machine learning models can retrain on new data in order to accurately predict.*\n",
    "\n",
    "*3. The output of the machine learning model can be used to put fair market prices on new listed houses in different districts in California.  It can help those looking for a house get an accurate estimation on where they can purchase a house and be strategically used by those who are trying to invest.  Accuracy is critical because an inaccurate model or errors in the model can result in a loss of money, possibly by placing an unfair evaluation on a house or a district as whole.  Real-estate agents can also utilize this and a lot of time will be saved by using the model instead of evaluating every individual house for a price.*\n",
    "\n",
    "*4. This project is supervised learning since it has labeled data and uses the median house pricing for California districts.  It is also regression since we are trying to obtain a continuous numeric value which is the median housing price rather than any category which would be classification.  This is batch learning because the model is trained on a whole dataset, that is not being updated, all at once.  The test set it is tested on is also not updated and is static.  This is model-based learning because we utilize models like linear regression and random forest to learn the data and apply functions that fit it, then trained instances are removed when we begin predicting on the test data.*"
   ]
  },
  {
   "cell_type": "markdown",
   "metadata": {
    "tags": [
     "task"
    ]
   },
   "source": [
    "---\n",
    "## Part 2: Initial data analysis and data splitting (32 points)\n",
    "\n",
    "The author of your book thoughtfully provided the entire code base that he used to build Chapter 2. You should be able to find all of the code on GitHub. Be sure you work with this document and the code from the textbook so that you don't end up writing a ton of code yourself, which is not the point. (If you want to write your own code, that is totally fine too! We are just using the code from the textbook to save time.)\n",
    "\n",
    "Follow these steps:\n",
    "\n",
    "* Download the Chapter 2 notebook from GitHub\n",
    "* Run the notebook up to Part 3 (Prepare the Data for Machine Learning Algorithms) inclusive and **make sure you understand what every code cell is doing**.\n",
    "* Answer the questions below.\n",
    "* Turn in _this_ notebook with your answers in the usual way (no need to resubmit the notebook from the textbook).\n",
    "\n",
    "Read Chapter 2 up to the section \"Select and train a Model\" of your textbook and answer the following questions.\n",
    "\n",
    "\n",
    "🗒️ **Task:** Answer the following questions in the markdown below\n",
    "\n",
    "1. What is the size of the dataset? How many samples and how many features?\n",
    "2. What is the type/form of each column? Numerical vs Categorical? Continuous vs Discrete?\n",
    "3. What does each row in the dataset represent?\n",
    "4. What is the target feature (*e.g.* what is the $y$ and what are the $X$)?\n",
    "5. Why did the author split the dataset before doing the EDA?\n",
    "6. What is `StratifiedShuffleSplit` and why would you use it? What problem does it solve for you?\n",
    "7. How is the feature `ocean_proximity` handled?\n",
    "8. What information does the author provide about some of the features that are not readily available from writing code ? "
   ]
  },
  {
   "cell_type": "code",
   "execution_count": 1,
   "metadata": {},
   "outputs": [
    {
     "name": "stderr",
     "output_type": "stream",
     "text": [
      "/tmp/ipykernel_3480482/2839428726.py:13: DeprecationWarning: Python 3.14 will, by default, filter extracted tar archives and reject files or modify their metadata. Use the filter argument to control this behavior.\n",
      "  housing_tarball.extractall(path=\"datasets\")\n"
     ]
    }
   ],
   "source": [
    "from pathlib import Path\n",
    "import pandas as pd\n",
    "import tarfile\n",
    "import urllib.request\n",
    "\n",
    "def load_housing_data():\n",
    "    tarball_path = Path(\"datasets/housing.tgz\")\n",
    "    if not tarball_path.is_file():\n",
    "        Path(\"datasets\").mkdir(parents=True, exist_ok=True)\n",
    "        url = \"https://github.com/ageron/data/raw/main/housing.tgz\"\n",
    "        urllib.request.urlretrieve(url, tarball_path)\n",
    "    with tarfile.open(tarball_path) as housing_tarball:\n",
    "            housing_tarball.extractall(path=\"datasets\")\n",
    "    return pd.read_csv(Path(\"datasets/housing/housing.csv\"))\n",
    "\n",
    "housing = load_housing_data()"
   ]
  },
  {
   "cell_type": "code",
   "execution_count": 2,
   "metadata": {},
   "outputs": [
    {
     "name": "stdout",
     "output_type": "stream",
     "text": [
      "<class 'pandas.core.frame.DataFrame'>\n",
      "RangeIndex: 20640 entries, 0 to 20639\n",
      "Data columns (total 10 columns):\n",
      " #   Column              Non-Null Count  Dtype  \n",
      "---  ------              --------------  -----  \n",
      " 0   longitude           20640 non-null  float64\n",
      " 1   latitude            20640 non-null  float64\n",
      " 2   housing_median_age  20640 non-null  float64\n",
      " 3   total_rooms         20640 non-null  float64\n",
      " 4   total_bedrooms      20433 non-null  float64\n",
      " 5   population          20640 non-null  float64\n",
      " 6   households          20640 non-null  float64\n",
      " 7   median_income       20640 non-null  float64\n",
      " 8   median_house_value  20640 non-null  float64\n",
      " 9   ocean_proximity     20640 non-null  object \n",
      "dtypes: float64(9), object(1)\n",
      "memory usage: 1.6+ MB\n"
     ]
    }
   ],
   "source": [
    "housing.info()"
   ]
  },
  {
   "cell_type": "code",
   "execution_count": 3,
   "metadata": {},
   "outputs": [
    {
     "data": {
      "text/plain": [
       "longitude             float64\n",
       "latitude              float64\n",
       "housing_median_age    float64\n",
       "total_rooms           float64\n",
       "total_bedrooms        float64\n",
       "population            float64\n",
       "households            float64\n",
       "median_income         float64\n",
       "median_house_value    float64\n",
       "ocean_proximity        object\n",
       "dtype: object"
      ]
     },
     "execution_count": 3,
     "metadata": {},
     "output_type": "execute_result"
    }
   ],
   "source": [
    "housing.dtypes"
   ]
  },
  {
   "cell_type": "code",
   "execution_count": 4,
   "metadata": {},
   "outputs": [],
   "source": [
    "#housing = strat_train_set.drop(\"median_house_value\", axis=1)\n",
    "#housing_labels = strat_train_set[\"median_house_value\"].copy()"
   ]
  },
  {
   "cell_type": "code",
   "execution_count": 5,
   "metadata": {},
   "outputs": [
    {
     "data": {
      "text/html": [
       "<div>\n",
       "<style scoped>\n",
       "    .dataframe tbody tr th:only-of-type {\n",
       "        vertical-align: middle;\n",
       "    }\n",
       "\n",
       "    .dataframe tbody tr th {\n",
       "        vertical-align: top;\n",
       "    }\n",
       "\n",
       "    .dataframe thead th {\n",
       "        text-align: right;\n",
       "    }\n",
       "</style>\n",
       "<table border=\"1\" class=\"dataframe\">\n",
       "  <thead>\n",
       "    <tr style=\"text-align: right;\">\n",
       "      <th></th>\n",
       "      <th>longitude</th>\n",
       "      <th>latitude</th>\n",
       "      <th>housing_median_age</th>\n",
       "      <th>total_rooms</th>\n",
       "      <th>total_bedrooms</th>\n",
       "      <th>population</th>\n",
       "      <th>households</th>\n",
       "      <th>median_income</th>\n",
       "      <th>median_house_value</th>\n",
       "      <th>ocean_proximity</th>\n",
       "    </tr>\n",
       "  </thead>\n",
       "  <tbody>\n",
       "    <tr>\n",
       "      <th>0</th>\n",
       "      <td>-122.23</td>\n",
       "      <td>37.88</td>\n",
       "      <td>41.0</td>\n",
       "      <td>880.0</td>\n",
       "      <td>129.0</td>\n",
       "      <td>322.0</td>\n",
       "      <td>126.0</td>\n",
       "      <td>8.3252</td>\n",
       "      <td>452600.0</td>\n",
       "      <td>NEAR BAY</td>\n",
       "    </tr>\n",
       "    <tr>\n",
       "      <th>1</th>\n",
       "      <td>-122.22</td>\n",
       "      <td>37.86</td>\n",
       "      <td>21.0</td>\n",
       "      <td>7099.0</td>\n",
       "      <td>1106.0</td>\n",
       "      <td>2401.0</td>\n",
       "      <td>1138.0</td>\n",
       "      <td>8.3014</td>\n",
       "      <td>358500.0</td>\n",
       "      <td>NEAR BAY</td>\n",
       "    </tr>\n",
       "    <tr>\n",
       "      <th>2</th>\n",
       "      <td>-122.24</td>\n",
       "      <td>37.85</td>\n",
       "      <td>52.0</td>\n",
       "      <td>1467.0</td>\n",
       "      <td>190.0</td>\n",
       "      <td>496.0</td>\n",
       "      <td>177.0</td>\n",
       "      <td>7.2574</td>\n",
       "      <td>352100.0</td>\n",
       "      <td>NEAR BAY</td>\n",
       "    </tr>\n",
       "    <tr>\n",
       "      <th>3</th>\n",
       "      <td>-122.25</td>\n",
       "      <td>37.85</td>\n",
       "      <td>52.0</td>\n",
       "      <td>1274.0</td>\n",
       "      <td>235.0</td>\n",
       "      <td>558.0</td>\n",
       "      <td>219.0</td>\n",
       "      <td>5.6431</td>\n",
       "      <td>341300.0</td>\n",
       "      <td>NEAR BAY</td>\n",
       "    </tr>\n",
       "    <tr>\n",
       "      <th>4</th>\n",
       "      <td>-122.25</td>\n",
       "      <td>37.85</td>\n",
       "      <td>52.0</td>\n",
       "      <td>1627.0</td>\n",
       "      <td>280.0</td>\n",
       "      <td>565.0</td>\n",
       "      <td>259.0</td>\n",
       "      <td>3.8462</td>\n",
       "      <td>342200.0</td>\n",
       "      <td>NEAR BAY</td>\n",
       "    </tr>\n",
       "  </tbody>\n",
       "</table>\n",
       "</div>"
      ],
      "text/plain": [
       "   longitude  latitude  housing_median_age  total_rooms  total_bedrooms  \\\n",
       "0    -122.23     37.88                41.0        880.0           129.0   \n",
       "1    -122.22     37.86                21.0       7099.0          1106.0   \n",
       "2    -122.24     37.85                52.0       1467.0           190.0   \n",
       "3    -122.25     37.85                52.0       1274.0           235.0   \n",
       "4    -122.25     37.85                52.0       1627.0           280.0   \n",
       "\n",
       "   population  households  median_income  median_house_value ocean_proximity  \n",
       "0       322.0       126.0         8.3252            452600.0        NEAR BAY  \n",
       "1      2401.0      1138.0         8.3014            358500.0        NEAR BAY  \n",
       "2       496.0       177.0         7.2574            352100.0        NEAR BAY  \n",
       "3       558.0       219.0         5.6431            341300.0        NEAR BAY  \n",
       "4       565.0       259.0         3.8462            342200.0        NEAR BAY  "
      ]
     },
     "execution_count": 5,
     "metadata": {},
     "output_type": "execute_result"
    }
   ],
   "source": [
    "housing.head()"
   ]
  },
  {
   "cell_type": "markdown",
   "metadata": {
    "tags": [
     "text answer"
    ]
   },
   "source": [
    "✏️ **Answer:** \n",
    "*1. There are 20640 samples of data which are the rows, and 10 features of data, which are the columns.*\n",
    "\n",
    "*2. Numerical (continuous) columns are the longitude, latitude, housing median age, median income, and median house value which is our target variable.  Numerical (discrete) columns are total rooms, total bedrooms, population, and households. The only Categorical columns is ocean proximity.*\n",
    "\n",
    "*3. Each row in the dataset represents a block group, or district for simplification.  This is defined as a small geographical area by the U.S. Census.*\n",
    "\n",
    "*4. The target features is median_house_value, and the X are all the other attributes such as longitude, latitude, population, households, total_rooms, total_bedrooms, housing_median_age, median_income, and ocean_proximity)*\n",
    "\n",
    "*5. The author split the dataset before doing EDA to avoid overfitting to the test set and to avoid analyzing any patterns of feature engineering on the test set, which would invalidate the test set when you want to use it to ensure your model works on new and unseen data.  You only want to use information from the training set, not the test set.*\n",
    "\n",
    "*6. StratifiedShuffleSplit is when the population is divided into homogenous subgroups called strata, and the right number of instances are sampled from each stratum to guarantee that the test set is representative of the overall population.  In the model, it will maintain the key proportions of the variables.  It reduces bias and prevents you from accidentally distorting distributions of variables.*\n",
    "\n",
    "*7. The feature ocean_proximity is handled by using OneHotEncoder() to turn the different categories into numerical values since most machine learning algorithms prefer to work with numbers.  Each category gets it's own column indicating whether each entry belongs to that category (1) or not (0).*\n",
    "\n",
    "*8. Since the numerical attributes have very different scales, there would be bias in the model and what it focuses on.  Median income ranges from 0-15 but total number of rooms ranges from 6 to 39,320.  Without scaling you could have bias favor the total number of rooms over median income.  Due to this, these features must have code work on them in order to be utilized.*"
   ]
  },
  {
   "cell_type": "markdown",
   "metadata": {
    "id": "fZpg0EV86tbW",
    "tags": [
     "task"
    ]
   },
   "source": [
    "---\n",
    "## Part 3. Scikit-Learn API (16 points)\n",
    "\n",
    "The scikit-learn API is very well designed. It is worth understanding its logic so that you can quickly, easily and correctly get results from it. \n",
    "\n",
    "🗒️ **Task:** Answer the following questions in the markdown below:\n",
    "1. Within the context of the scikit-learn API, define in a markdown cell what these mean:\n",
    "   * estimator,\n",
    "   * transformer,\n",
    "   * predictor.\n",
    "\n",
    "2. Within the context of the scikit-learn API, what are the most commonly used _methods_ and _attributes_ that go with these? \n",
    "\n",
    "3. Create in Python a fake data that consists of a noisy line and fit to it using `LinearRegression` from `.linear_model`. Plot everything together and put the values of the actual weights (slope and intercept) and the predicted values in the title of the plot. Some starter is given below. \n",
    "\n",
    "4. The scikit-learn API allows for what are called _pipelines_. In a markdown cell, describe what a pipeline is, how to set one up and why these can be extremely important to an ML workflow. \n"
   ]
  },
  {
   "cell_type": "markdown",
   "metadata": {
    "tags": [
     "text answer"
    ]
   },
   "source": [
    "✏️ **Answer:** \n",
    "*1. An estimator is an object that has a .fit() method and is the central object surrounding a machine learning model.  They learn from data and can be used to predict or transform.  Different estimators consist of LinearRegression, SVC, RandomForestClassifier, and many more.  Transformers may clean, reduce, expand, or generate feature representations.  Like other estimators, they are represented by classes with a .fit() method.  Transformers are designed to preprocess and transform data before it is fed into a predictive model.  An example of a transformer is StandardScaler() or SimpleImputer().  A predictor uses .predict() in scikit-learn.  A predictor takes a algorithm or model that has been trained with .fit() and then uses it to make predictions on unseen data.*\n",
    "\n",
    "*2. The most commonly used method that goes with estimators is .fit(), which helps learn the data and is the overall foundation to beginning your model.  coef_ and intercept_ are commonly used attributes that go with estimators to display your parameters.  The most commonly used methods with transformers are .transform(), which applies the learned transformation to X and returns the transformed data.  Common attributes are mean_ and scale_ for StandardScaler.  feature_names_in_ get the input features seen during .fit() and feature_names_out_ gets the output features after the transform and are both also common. Predict commonly has methods such as .predict(), .predict_proba(), and .score() commonly used, which help predict and evaluate your models prediction phase. feature_importances_ is a common attribute for predictors when working with trees.*\n",
    "\n",
    "*3. **Code attached below:***\n",
    "\n",
    "*4. Pipeline in scikit-learn allows you to chain together several steps to such as data transformations.  It allows you to apply a list of transformers to preprocess the data.  The purpose of the pipeline is to combine several steps that can be cross-validated together while setting different parameters. Pipelines help data leakage by only applying to the training set, and you are able to produce everything with one object which makes it efficient ane effective for building a model.  It also helps keep things simple and clean. **Pipeline code attached below:***"
   ]
  },
  {
   "cell_type": "code",
   "execution_count": 6,
   "metadata": {},
   "outputs": [
    {
     "data": {
      "application/vnd.plotly.v1+json": {
       "config": {
        "plotlyServerURL": "https://plot.ly"
       },
       "data": [
        {
         "marker": {
          "opacity": 0.75,
          "size": 6
         },
         "mode": "markers",
         "name": "Noisy data",
         "type": "scatter",
         "x": {
          "bdata": "AAAAAAAAEMBmZmZmZmYOwMzMzMzMzAzAMjMzMzMzC8CYmZmZmZkJwP7//////wfAZGZmZmZmBsDKzMzMzMwEwDAzMzMzMwPAlpmZmZmZAcD4////////v8TMzMzMzPy/kJmZmZmZ+b9cZmZmZmb2vygzMzMzM/O/6P//////77+AmZmZmZnpvxgzMzMzM+O/YJmZmZmZ2b8gmZmZmZnJvwAAAAAAAPA8IJqZmZmZyT/gmZmZmZnZP1gzMzMzM+M/wJmZmZmZ6T8UAAAAAADwP0gzMzMzM/M/fGZmZmZm9j+wmZmZmZn5P+TMzMzMzPw/DAAAAAAAAECmmZmZmZkBQEAzMzMzMwNA2szMzMzMBEB0ZmZmZmYGQA4AAAAAAAhAqJmZmZmZCUBCMzMzMzMLQNzMzMzMzAxAdmZmZmZmDkAIAAAAAAAQQA==",
          "dtype": "f8"
         },
         "y": {
          "bdata": "VgPDJchELMCS/fcnxEsuwFnXQdWFzCjAQmOeXIQkJ8BI30eA6uEswCkwdSAPICrA/RdDPkF+JcAZuUVC5lslwPA8W/64cCPAQI2NaE8/JMAdaxVRZccdwNbzvWnZ3RvAVLkTvQ/iHMCrXpNgpWMVwDTGW63sJxbA38E7CeYfGsB8KCOietQRwFREqZV5zRXABPNGdbgqBcD77Jt3f0cJwB+btldRxgXAPYPaBqe8BcBg9yqq4WHFP9i5KZN8Vey/vnFsddWl47+4yTE8F9OzPyAxWZAB0vs/+DkJILcbAUAf23pOu1wGQEhZo1b8VQtALGsZFahHGEBto6aU/uUMQB63oStbVxBArwgvbzxLEUCzdcH4g44aQB6RqflHax9Ap8QSoWHaG0Af1bJsasQaQFLp3tUTPh1A9O2MMoZcI0DsCtvFp8gkQA==",
          "dtype": "f8"
         }
        },
        {
         "line": {
          "dash": "dash"
         },
         "mode": "lines",
         "name": "Fitted line (LinearRegression)",
         "type": "scatter",
         "x": {
          "bdata": "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",
          "dtype": "f8"
         },
         "y": {
          "bdata": "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",
          "dtype": "f8"
         }
        }
       ],
       "layout": {
        "legend": {
         "x": 0.01,
         "xanchor": "left",
         "y": 0.99,
         "yanchor": "top"
        },
        "template": {
         "data": {
          "bar": [
           {
            "error_x": {
             "color": "#2a3f5f"
            },
            "error_y": {
             "color": "#2a3f5f"
            },
            "marker": {
             "line": {
              "color": "white",
              "width": 0.5
             },
             "pattern": {
              "fillmode": "overlay",
              "size": 10,
              "solidity": 0.2
             }
            },
            "type": "bar"
           }
          ],
          "barpolar": [
           {
            "marker": {
             "line": {
              "color": "white",
              "width": 0.5
             },
             "pattern": {
              "fillmode": "overlay",
              "size": 10,
              "solidity": 0.2
             }
            },
            "type": "barpolar"
           }
          ],
          "carpet": [
           {
            "aaxis": {
             "endlinecolor": "#2a3f5f",
             "gridcolor": "#C8D4E3",
             "linecolor": "#C8D4E3",
             "minorgridcolor": "#C8D4E3",
             "startlinecolor": "#2a3f5f"
            },
            "baxis": {
             "endlinecolor": "#2a3f5f",
             "gridcolor": "#C8D4E3",
             "linecolor": "#C8D4E3",
             "minorgridcolor": "#C8D4E3",
             "startlinecolor": "#2a3f5f"
            },
            "type": "carpet"
           }
          ],
          "choropleth": [
           {
            "colorbar": {
             "outlinewidth": 0,
             "ticks": ""
            },
            "type": "choropleth"
           }
          ],
          "contour": [
           {
            "colorbar": {
             "outlinewidth": 0,
             "ticks": ""
            },
            "colorscale": [
             [
              0,
              "#0d0887"
             ],
             [
              0.1111111111111111,
              "#46039f"
             ],
             [
              0.2222222222222222,
              "#7201a8"
             ],
             [
              0.3333333333333333,
              "#9c179e"
             ],
             [
              0.4444444444444444,
              "#bd3786"
             ],
             [
              0.5555555555555556,
              "#d8576b"
             ],
             [
              0.6666666666666666,
              "#ed7953"
             ],
             [
              0.7777777777777778,
              "#fb9f3a"
             ],
             [
              0.8888888888888888,
              "#fdca26"
             ],
             [
              1,
              "#f0f921"
             ]
            ],
            "type": "contour"
           }
          ],
          "contourcarpet": [
           {
            "colorbar": {
             "outlinewidth": 0,
             "ticks": ""
            },
            "type": "contourcarpet"
           }
          ],
          "heatmap": [
           {
            "colorbar": {
             "outlinewidth": 0,
             "ticks": ""
            },
            "colorscale": [
             [
              0,
              "#0d0887"
             ],
             [
              0.1111111111111111,
              "#46039f"
             ],
             [
              0.2222222222222222,
              "#7201a8"
             ],
             [
              0.3333333333333333,
              "#9c179e"
             ],
             [
              0.4444444444444444,
              "#bd3786"
             ],
             [
              0.5555555555555556,
              "#d8576b"
             ],
             [
              0.6666666666666666,
              "#ed7953"
             ],
             [
              0.7777777777777778,
              "#fb9f3a"
             ],
             [
              0.8888888888888888,
              "#fdca26"
             ],
             [
              1,
              "#f0f921"
             ]
            ],
            "type": "heatmap"
           }
          ],
          "histogram": [
           {
            "marker": {
             "pattern": {
              "fillmode": "overlay",
              "size": 10,
              "solidity": 0.2
             }
            },
            "type": "histogram"
           }
          ],
          "histogram2d": [
           {
            "colorbar": {
             "outlinewidth": 0,
             "ticks": ""
            },
            "colorscale": [
             [
              0,
              "#0d0887"
             ],
             [
              0.1111111111111111,
              "#46039f"
             ],
             [
              0.2222222222222222,
              "#7201a8"
             ],
             [
              0.3333333333333333,
              "#9c179e"
             ],
             [
              0.4444444444444444,
              "#bd3786"
             ],
             [
              0.5555555555555556,
              "#d8576b"
             ],
             [
              0.6666666666666666,
              "#ed7953"
             ],
             [
              0.7777777777777778,
              "#fb9f3a"
             ],
             [
              0.8888888888888888,
              "#fdca26"
             ],
             [
              1,
              "#f0f921"
             ]
            ],
            "type": "histogram2d"
           }
          ],
          "histogram2dcontour": [
           {
            "colorbar": {
             "outlinewidth": 0,
             "ticks": ""
            },
            "colorscale": [
             [
              0,
              "#0d0887"
             ],
             [
              0.1111111111111111,
              "#46039f"
             ],
             [
              0.2222222222222222,
              "#7201a8"
             ],
             [
              0.3333333333333333,
              "#9c179e"
             ],
             [
              0.4444444444444444,
              "#bd3786"
             ],
             [
              0.5555555555555556,
              "#d8576b"
             ],
             [
              0.6666666666666666,
              "#ed7953"
             ],
             [
              0.7777777777777778,
              "#fb9f3a"
             ],
             [
              0.8888888888888888,
              "#fdca26"
             ],
             [
              1,
              "#f0f921"
             ]
            ],
            "type": "histogram2dcontour"
           }
          ],
          "mesh3d": [
           {
            "colorbar": {
             "outlinewidth": 0,
             "ticks": ""
            },
            "type": "mesh3d"
           }
          ],
          "parcoords": [
           {
            "line": {
             "colorbar": {
              "outlinewidth": 0,
              "ticks": ""
             }
            },
            "type": "parcoords"
           }
          ],
          "pie": [
           {
            "automargin": true,
            "type": "pie"
           }
          ],
          "scatter": [
           {
            "fillpattern": {
             "fillmode": "overlay",
             "size": 10,
             "solidity": 0.2
            },
            "type": "scatter"
           }
          ],
          "scatter3d": [
           {
            "line": {
             "colorbar": {
              "outlinewidth": 0,
              "ticks": ""
             }
            },
            "marker": {
             "colorbar": {
              "outlinewidth": 0,
              "ticks": ""
             }
            },
            "type": "scatter3d"
           }
          ],
          "scattercarpet": [
           {
            "marker": {
             "colorbar": {
              "outlinewidth": 0,
              "ticks": ""
             }
            },
            "type": "scattercarpet"
           }
          ],
          "scattergeo": [
           {
            "marker": {
             "colorbar": {
              "outlinewidth": 0,
              "ticks": ""
             }
            },
            "type": "scattergeo"
           }
          ],
          "scattergl": [
           {
            "marker": {
             "colorbar": {
              "outlinewidth": 0,
              "ticks": ""
             }
            },
            "type": "scattergl"
           }
          ],
          "scattermap": [
           {
            "marker": {
             "colorbar": {
              "outlinewidth": 0,
              "ticks": ""
             }
            },
            "type": "scattermap"
           }
          ],
          "scattermapbox": [
           {
            "marker": {
             "colorbar": {
              "outlinewidth": 0,
              "ticks": ""
             }
            },
            "type": "scattermapbox"
           }
          ],
          "scatterpolar": [
           {
            "marker": {
             "colorbar": {
              "outlinewidth": 0,
              "ticks": ""
             }
            },
            "type": "scatterpolar"
           }
          ],
          "scatterpolargl": [
           {
            "marker": {
             "colorbar": {
              "outlinewidth": 0,
              "ticks": ""
             }
            },
            "type": "scatterpolargl"
           }
          ],
          "scatterternary": [
           {
            "marker": {
             "colorbar": {
              "outlinewidth": 0,
              "ticks": ""
             }
            },
            "type": "scatterternary"
           }
          ],
          "surface": [
           {
            "colorbar": {
             "outlinewidth": 0,
             "ticks": ""
            },
            "colorscale": [
             [
              0,
              "#0d0887"
             ],
             [
              0.1111111111111111,
              "#46039f"
             ],
             [
              0.2222222222222222,
              "#7201a8"
             ],
             [
              0.3333333333333333,
              "#9c179e"
             ],
             [
              0.4444444444444444,
              "#bd3786"
             ],
             [
              0.5555555555555556,
              "#d8576b"
             ],
             [
              0.6666666666666666,
              "#ed7953"
             ],
             [
              0.7777777777777778,
              "#fb9f3a"
             ],
             [
              0.8888888888888888,
              "#fdca26"
             ],
             [
              1,
              "#f0f921"
             ]
            ],
            "type": "surface"
           }
          ],
          "table": [
           {
            "cells": {
             "fill": {
              "color": "#EBF0F8"
             },
             "line": {
              "color": "white"
             }
            },
            "header": {
             "fill": {
              "color": "#C8D4E3"
             },
             "line": {
              "color": "white"
             }
            },
            "type": "table"
           }
          ]
         },
         "layout": {
          "annotationdefaults": {
           "arrowcolor": "#2a3f5f",
           "arrowhead": 0,
           "arrowwidth": 1
          },
          "autotypenumbers": "strict",
          "coloraxis": {
           "colorbar": {
            "outlinewidth": 0,
            "ticks": ""
           }
          },
          "colorscale": {
           "diverging": [
            [
             0,
             "#8e0152"
            ],
            [
             0.1,
             "#c51b7d"
            ],
            [
             0.2,
             "#de77ae"
            ],
            [
             0.3,
             "#f1b6da"
            ],
            [
             0.4,
             "#fde0ef"
            ],
            [
             0.5,
             "#f7f7f7"
            ],
            [
             0.6,
             "#e6f5d0"
            ],
            [
             0.7,
             "#b8e186"
            ],
            [
             0.8,
             "#7fbc41"
            ],
            [
             0.9,
             "#4d9221"
            ],
            [
             1,
             "#276419"
            ]
           ],
           "sequential": [
            [
             0,
             "#0d0887"
            ],
            [
             0.1111111111111111,
             "#46039f"
            ],
            [
             0.2222222222222222,
             "#7201a8"
            ],
            [
             0.3333333333333333,
             "#9c179e"
            ],
            [
             0.4444444444444444,
             "#bd3786"
            ],
            [
             0.5555555555555556,
             "#d8576b"
            ],
            [
             0.6666666666666666,
             "#ed7953"
            ],
            [
             0.7777777777777778,
             "#fb9f3a"
            ],
            [
             0.8888888888888888,
             "#fdca26"
            ],
            [
             1,
             "#f0f921"
            ]
           ],
           "sequentialminus": [
            [
             0,
             "#0d0887"
            ],
            [
             0.1111111111111111,
             "#46039f"
            ],
            [
             0.2222222222222222,
             "#7201a8"
            ],
            [
             0.3333333333333333,
             "#9c179e"
            ],
            [
             0.4444444444444444,
             "#bd3786"
            ],
            [
             0.5555555555555556,
             "#d8576b"
            ],
            [
             0.6666666666666666,
             "#ed7953"
            ],
            [
             0.7777777777777778,
             "#fb9f3a"
            ],
            [
             0.8888888888888888,
             "#fdca26"
            ],
            [
             1,
             "#f0f921"
            ]
           ]
          },
          "colorway": [
           "#636efa",
           "#EF553B",
           "#00cc96",
           "#ab63fa",
           "#FFA15A",
           "#19d3f3",
           "#FF6692",
           "#B6E880",
           "#FF97FF",
           "#FECB52"
          ],
          "font": {
           "color": "#2a3f5f"
          },
          "geo": {
           "bgcolor": "white",
           "lakecolor": "white",
           "landcolor": "white",
           "showlakes": true,
           "showland": true,
           "subunitcolor": "#C8D4E3"
          },
          "hoverlabel": {
           "align": "left"
          },
          "hovermode": "closest",
          "mapbox": {
           "style": "light"
          },
          "paper_bgcolor": "white",
          "plot_bgcolor": "white",
          "polar": {
           "angularaxis": {
            "gridcolor": "#EBF0F8",
            "linecolor": "#EBF0F8",
            "ticks": ""
           },
           "bgcolor": "white",
           "radialaxis": {
            "gridcolor": "#EBF0F8",
            "linecolor": "#EBF0F8",
            "ticks": ""
           }
          },
          "scene": {
           "xaxis": {
            "backgroundcolor": "white",
            "gridcolor": "#DFE8F3",
            "gridwidth": 2,
            "linecolor": "#EBF0F8",
            "showbackground": true,
            "ticks": "",
            "zerolinecolor": "#EBF0F8"
           },
           "yaxis": {
            "backgroundcolor": "white",
            "gridcolor": "#DFE8F3",
            "gridwidth": 2,
            "linecolor": "#EBF0F8",
            "showbackground": true,
            "ticks": "",
            "zerolinecolor": "#EBF0F8"
           },
           "zaxis": {
            "backgroundcolor": "white",
            "gridcolor": "#DFE8F3",
            "gridwidth": 2,
            "linecolor": "#EBF0F8",
            "showbackground": true,
            "ticks": "",
            "zerolinecolor": "#EBF0F8"
           }
          },
          "shapedefaults": {
           "line": {
            "color": "#2a3f5f"
           }
          },
          "ternary": {
           "aaxis": {
            "gridcolor": "#DFE8F3",
            "linecolor": "#A2B1C6",
            "ticks": ""
           },
           "baxis": {
            "gridcolor": "#DFE8F3",
            "linecolor": "#A2B1C6",
            "ticks": ""
           },
           "bgcolor": "white",
           "caxis": {
            "gridcolor": "#DFE8F3",
            "linecolor": "#A2B1C6",
            "ticks": ""
           }
          },
          "title": {
           "x": 0.05
          },
          "xaxis": {
           "automargin": true,
           "gridcolor": "#EBF0F8",
           "linecolor": "#EBF0F8",
           "ticks": "",
           "title": {
            "standoff": 15
           },
           "zerolinecolor": "#EBF0F8",
           "zerolinewidth": 2
          },
          "yaxis": {
           "automargin": true,
           "gridcolor": "#EBF0F8",
           "linecolor": "#EBF0F8",
           "ticks": "",
           "title": {
            "standoff": 15
           },
           "zerolinecolor": "#EBF0F8",
           "zerolinewidth": 2
          }
         }
        },
        "title": {
         "text": "True: slope=3.000, intercept=-2.500 | Pred: slope=3.059, intercept=-2.433"
        },
        "xaxis": {
         "title": {
          "text": "x"
         }
        },
        "yaxis": {
         "title": {
          "text": "y"
         }
        }
       }
      },
      "image/png": "[encoded data removed]"
     },
     "metadata": {},
     "output_type": "display_data"
    }
   ],
   "source": [
    "### ANSWER QUESTION 3\n",
    "import numpy as np\n",
    "from sklearn.linear_model import LinearRegression\n",
    "import plotly.graph_objects as go\n",
    "\n",
    "rng = np.random.default_rng(42)\n",
    "\n",
    "x_ary = np.arange(-4, 4.2, 0.2)\n",
    "\n",
    "m_true = 3.0 \n",
    "b_true = -2.5\n",
    "\n",
    "noise_std = 1.2\n",
    "y_true = m_true * x_ary + b_true\n",
    "y_noisy = y_true + rng.normal(0, noise_std, size=x_ary.shape)\n",
    "\n",
    "X = x_ary.reshape(-1, 1) \n",
    "linreg = LinearRegression()\n",
    "linreg.fit(X, y_noisy)\n",
    "\n",
    "m_hat = float(linreg.coef_[0])\n",
    "b_hat = float(linreg.intercept_)\n",
    "\n",
    "x_line = np.linspace(x_ary.min(), x_ary.max(), 300).reshape(-1, 1)\n",
    "y_pred_line = linreg.predict(x_line)\n",
    "y_true_line = m_true * x_line.ravel() + b_true\n",
    "\n",
    "# Code converted to plotly visual by ChatGPT from matplotlib code. Prompt: “I have this plotting code written in Matplotlib. \n",
    "# Please convert it to use Plotly instead, keeping the same data, labels, title, and legend. Here is the code:\". 9/11/25\n",
    "fig = go.Figure()\n",
    "\n",
    "fig.add_trace(go.Scatter(\n",
    "    x=x_ary, y=y_noisy,\n",
    "    mode=\"markers\",\n",
    "    name=\"Noisy data\",\n",
    "    marker=dict(size=6, opacity=0.75)\n",
    "))\n",
    "\n",
    "#fig.add_trace(go.Scatter(\n",
    "   # x=x_line.ravel(), y=y_true_line,\n",
    "   # mode=\"lines\",\n",
    "    #name=\"True line\"\n",
    "#))\n",
    "\n",
    "fig.add_trace(go.Scatter(\n",
    "    x=x_line.ravel(), y=y_pred_line,\n",
    "    mode=\"lines\",\n",
    "    name=\"Fitted line (LinearRegression)\",\n",
    "    line=dict(dash=\"dash\")\n",
    "))\n",
    "\n",
    "fig.update_layout(\n",
    "    title=(\n",
    "        f\"True: slope={m_true:.3f}, intercept={b_true:.3f} | \"\n",
    "        f\"Pred: slope={m_hat:.3f}, intercept={b_hat:.3f}\"\n",
    "    ),\n",
    "    xaxis_title=\"x\",\n",
    "    yaxis_title=\"y\",\n",
    "    template=\"plotly_white\",\n",
    "    legend=dict(yanchor=\"top\", y=0.99, xanchor=\"left\", x=0.01)\n",
    ")\n",
    "\n",
    "fig.show()\n"
   ]
  },
  {
   "cell_type": "code",
   "execution_count": 7,
   "metadata": {},
   "outputs": [
    {
     "name": "stdout",
     "output_type": "stream",
     "text": [
      "Train R^2: 0.9817786574817029\n",
      "Test R^2 : 0.983039071076237\n",
      "Estimated slope =  7.051952013796555 intercept =  -2.814243672392279\n"
     ]
    }
   ],
   "source": [
    "### ANSWER QUESTION 4\n",
    "# How to set up pipeline:\n",
    "from sklearn.pipeline import Pipeline\n",
    "from sklearn.preprocessing import StandardScaler\n",
    "from sklearn.impute import SimpleImputer\n",
    "from sklearn.pipeline import make_pipeline\n",
    "from sklearn.model_selection import train_test_split\n",
    "\n",
    "# Pipeline code\n",
    "num_pipeline = Pipeline([\n",
    "    (\"standardize\", StandardScaler()),\n",
    "    (\"linreg\", LinearRegression())\n",
    "])\n",
    "\n",
    "# pipeline that standardizes the data, trains LinearRegression, and then evaluates it with R².\n",
    "X = x_ary.reshape(-1, 1)\n",
    "y = y_noisy    \n",
    "\n",
    "X_train, X_test, y_train, y_test = train_test_split(\n",
    "    X, y, test_size=0.2, random_state=42)\n",
    "\n",
    "num_pipeline.fit(X_train, y_train)\n",
    "\n",
    "y_pred = num_pipeline.predict(X_test)\n",
    "\n",
    "print(\"Train R^2:\", num_pipeline.score(X_train, y_train))\n",
    "print(\"Test R^2 :\", num_pipeline.score(X_test, y_test))\n",
    "\n",
    "coef =  num_pipeline.named_steps[\"linreg\"].coef_[0]\n",
    "intercept =  num_pipeline.named_steps[\"linreg\"].intercept_\n",
    "print(\"Estimated slope = \", coef, \"intercept = \", intercept)"
   ]
  },
  {
   "cell_type": "markdown",
   "metadata": {},
   "source": [
    "---\n",
    "## Congratulations, you're done!\n",
    "\n",
    "### 🛑 IMPORTANT: Before Submission\n",
    "\n",
    "**STOP!** Before submitting your notebook, please follow these steps:\n",
    "\n",
    "### Step 1: Restart Your Kernel\n",
    "\n",
    "### Step 2: Run All Cells\n",
    "\n",
    "### Step 3: Verify Everything Works\n",
    "\n",
    "Check that all cells execute without errors and produce the expected output\n",
    "\n",
    "This ensures that your notebook will run correctly when graded and that you haven't missed any dependencies or variable definitions that might exist only in your current session.\n",
    "\n",
    "*Your submission will be tested in a fresh environment, so this step is crucial for full credit!*\n",
    "\n",
    "\n",
    "### Step 4: Submit \n",
    "Submit this assignment by uploading your notebook to the course Desire2Learn web page.  Go to the \"Homework\" folder, find the appropriate submission link, and upload everything there. Make sure your name is on it!\n"
   ]
  },
  {
   "cell_type": "markdown",
   "metadata": {},
   "source": [
    "&#169; Copyright 2025, Department of Computational Mathematics, Science and Engineering at Michigan State University."
   ]
  }
 ],
 "metadata": {
  "colab": {
   "provenance": []
  },
  "kernelspec": {
   "display_name": "Python 3.12 (default)",
   "language": "python",
   "name": "python3"
  },
  "language_info": {
   "codemirror_mode": {
    "name": "ipython",
    "version": 3
   },
   "file_extension": ".py",
   "mimetype": "text/x-python",
   "name": "python",
   "nbconvert_exporter": "python",
   "pygments_lexer": "ipython3",
   "version": "3.12.11"
  },
  "widgets": {
   "application/vnd.jupyter.widget-state+json": {
    "state": {},
    "version_major": 2,
    "version_minor": 0
   }
  }
 },
 "nbformat": 4,
 "nbformat_minor": 4
}
