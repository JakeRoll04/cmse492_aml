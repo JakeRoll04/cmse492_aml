{
 "cells": [
  {
   "cell_type": "markdown",
   "id": "c963a4eb-97ae-4cea-b014-2508cb1b4a42",
   "metadata": {},
   "source": [
    "# Support Vector Regressor (SVR)\n",
    "\n",
    "Purpose: load processed data, fit SVR, evaluate with CV, tune hyperparameters with RandomizedSearchCV, and save model.\n"
   ]
  },
  {
   "cell_type": "markdown",
   "id": "97a04505-3c3b-429f-88e4-27ff98091ac3",
   "metadata": {},
   "source": [
    "# Data Loading"
   ]
  },
  {
   "cell_type": "code",
   "execution_count": 1,
   "id": "1078c7c3-9002-4697-be49-5a5366f87334",
   "metadata": {},
   "outputs": [
    {
     "name": "stdout",
     "output_type": "stream",
     "text": [
      "(16512, 24)\n"
     ]
    }
   ],
   "source": [
    "from pathlib import Path\n",
    "import pandas as pd\n",
    "\n",
    "ROOT = Path(\"..\")\n",
    "PROC = ROOT / \"data\" / \"train\" / \"housing_train_processed.csv\"\n",
    "df = pd.read_csv(PROC)\n",
    "y = df[\"median_house_value\"].values\n",
    "X = df.drop(columns=[\"median_house_value\"]).values\n",
    "print(X.shape)\n"
   ]
  },
  {
   "cell_type": "markdown",
   "id": "71ace934-5ddf-4f74-9a8c-d0320e621ce3",
   "metadata": {},
   "source": [
    "# Model Fitting"
   ]
  },
  {
   "cell_type": "code",
   "execution_count": 2,
   "id": "dbae1329-2415-4ea0-a7da-43a650495b76",
   "metadata": {},
   "outputs": [
    {
     "name": "stdout",
     "output_type": "stream",
     "text": [
      "Train R^2: -0.050733925111627\n"
     ]
    }
   ],
   "source": [
    "from sklearn.svm import SVR\n",
    "model = SVR() \n",
    "model.fit(X, y)\n",
    "print(\"Train R^2:\", model.score(X, y))\n"
   ]
  },
  {
   "cell_type": "markdown",
   "id": "ef8b87bb-28f7-47de-a1b9-fb1d4d16c49b",
   "metadata": {},
   "source": [
    "# Cross-Validation"
   ]
  },
  {
   "cell_type": "code",
   "execution_count": 3,
   "id": "e49ed1ad-45dd-4a83-9bcf-0abe9f53fa6c",
   "metadata": {},
   "outputs": [
    {
     "name": "stdout",
     "output_type": "stream",
     "text": [
      "CV RMSE: [120819.36250153 116704.99969296 118727.51181441 117260.05739857\n",
      " 117816.71409427]\n",
      "Mean RMSE: 118265.72910034936 ± 1441.0519180898555\n"
     ]
    }
   ],
   "source": [
    "from sklearn.model_selection import cross_val_score\n",
    "import numpy as np\n",
    "scores = cross_val_score(model, X, y, scoring=\"neg_mean_squared_error\", cv=5, n_jobs=-1)\n",
    "rmse = np.sqrt(-scores)\n",
    "print(\"CV RMSE:\", rmse)\n",
    "print(\"Mean RMSE:\", rmse.mean(), \"±\", rmse.std())\n"
   ]
  },
  {
   "cell_type": "markdown",
   "id": "ea6c014c-10d7-4594-a171-9a05aa19bde4",
   "metadata": {},
   "source": [
    "# Hyperparameter Tuning"
   ]
  },
  {
   "cell_type": "code",
   "execution_count": 4,
   "id": "a58358e5-41b7-4fbf-af05-1716ab677e48",
   "metadata": {},
   "outputs": [
    {
     "name": "stdout",
     "output_type": "stream",
     "text": [
      "Best params: {'C': np.float64(29.10635913133069), 'gamma': np.float64(0.015751320499779727), 'kernel': 'rbf'}\n",
      "Best RMSE: 114323.95136713232\n"
     ]
    }
   ],
   "source": [
    "from sklearn.model_selection import RandomizedSearchCV\n",
    "from sklearn.svm import SVR\n",
    "from scipy.stats import loguniform\n",
    "import numpy as np\n",
    "\n",
    "param_dist = {\n",
    "    \"C\": loguniform(1, 100),     \n",
    "    \"gamma\": loguniform(1e-3, 1e-1),\n",
    "    \"kernel\": [\"rbf\"]         \n",
    "}\n",
    "\n",
    "rs = RandomizedSearchCV(\n",
    "    estimator=SVR(),\n",
    "    param_distributions=param_dist,\n",
    "    n_iter=8,              \n",
    "    scoring=\"neg_mean_squared_error\",\n",
    "    cv=3,\n",
    "    random_state=42,\n",
    "    n_jobs=-1\n",
    ")\n",
    "rs.fit(X, y)\n",
    "\n",
    "print(\"Best params:\", rs.best_params_)\n",
    "print(\"Best RMSE:\", np.sqrt(-rs.best_score_))\n",
    "best_model = rs.best_estimator_\n"
   ]
  },
  {
   "cell_type": "markdown",
   "id": "190ef890-a44e-458c-9aaa-3af79b879a11",
   "metadata": {},
   "source": [
    "# Model Saving"
   ]
  },
  {
   "cell_type": "code",
   "execution_count": 5,
   "id": "67a6caa2-85a9-42b6-9765-63b77e81c879",
   "metadata": {},
   "outputs": [
    {
     "data": {
      "text/plain": [
       "PosixPath('svr_model.pkl')"
      ]
     },
     "execution_count": 5,
     "metadata": {},
     "output_type": "execute_result"
    }
   ],
   "source": [
    "import joblib, pathlib\n",
    "final_model = best_model if \"best_model\" in locals() else model\n",
    "out = pathlib.Path(\".\") / \"svr_model.pkl\"\n",
    "joblib.dump(final_model, out)\n",
    "out\n"
   ]
  },
  {
   "cell_type": "code",
   "execution_count": null,
   "id": "55a53a46-a3b0-4426-be4a-685332b78e20",
   "metadata": {},
   "outputs": [],
   "source": []
  }
 ],
 "metadata": {
  "kernelspec": {
   "display_name": "Python 3.12 (default)",
   "language": "python",
   "name": "python3"
  },
  "language_info": {
   "codemirror_mode": {
    "name": "ipython",
    "version": 3
   },
   "file_extension": ".py",
   "mimetype": "text/x-python",
   "name": "python",
   "nbconvert_exporter": "python",
   "pygments_lexer": "ipython3",
   "version": "3.12.11"
  }
 },
 "nbformat": 4,
 "nbformat_minor": 5
}
