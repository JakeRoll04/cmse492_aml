{
 "cells": [
  {
   "cell_type": "markdown",
   "id": "39a0a200-95ee-4739-9075-7358efecd109",
   "metadata": {},
   "source": [
    "# Linear Regression\n",
    "\n",
    "Purpose: load the 24-feature processed dataset, fit LinearRegression, evaluate with CV, (optional) simple tuning, and save the trained model.\n"
   ]
  },
  {
   "cell_type": "markdown",
   "id": "cdd52bc3-689b-473a-ac59-e9c9d5047a3f",
   "metadata": {},
   "source": [
    "# Data Loading"
   ]
  },
  {
   "cell_type": "code",
   "execution_count": 1,
   "id": "74185982-c871-4ca9-8cb8-cc78dbe9befa",
   "metadata": {},
   "outputs": [
    {
     "name": "stdout",
     "output_type": "stream",
     "text": [
      "(16512, 24)\n"
     ]
    }
   ],
   "source": [
    "from pathlib import Path\n",
    "import pandas as pd\n",
    "\n",
    "ROOT = Path(\"..\")\n",
    "PROC = ROOT / \"data\" / \"train\" / \"housing_train_processed.csv\"\n",
    "\n",
    "df = pd.read_csv(PROC)\n",
    "y = df[\"median_house_value\"].values\n",
    "X = df.drop(columns=[\"median_house_value\"]).values\n",
    "print(X.shape)  # should be (*, 24)\n"
   ]
  },
  {
   "cell_type": "markdown",
   "id": "979b6f79-5f00-4f3a-af9c-007f7f204405",
   "metadata": {},
   "source": [
    "# Model Fitting"
   ]
  },
  {
   "cell_type": "code",
   "execution_count": 2,
   "id": "5285a14e-7818-4f63-905e-1564636030f1",
   "metadata": {},
   "outputs": [
    {
     "name": "stdout",
     "output_type": "stream",
     "text": [
      "Train R^2: 0.666180500095032\n"
     ]
    }
   ],
   "source": [
    "from sklearn.linear_model import LinearRegression\n",
    "model = LinearRegression()\n",
    "model.fit(X, y)\n",
    "print(\"Train R^2:\", model.score(X, y))\n"
   ]
  },
  {
   "cell_type": "markdown",
   "id": "23158bcf-a53f-46f5-b924-ae4de6c2ad20",
   "metadata": {},
   "source": [
    "# Cross-Validation"
   ]
  },
  {
   "cell_type": "code",
   "execution_count": 3,
   "id": "ec5ffd1e-02ac-477e-ac24-4baef0aeeb8c",
   "metadata": {},
   "outputs": [
    {
     "name": "stdout",
     "output_type": "stream",
     "text": [
      "CV RMSE: [66816.46153052 66770.96413659 66705.3276392  67580.82945142\n",
      " 66465.27874681]\n",
      "Mean RMSE: 66867.77230090568 ± 376.52209628049826\n"
     ]
    }
   ],
   "source": [
    "from sklearn.model_selection import cross_val_score\n",
    "import numpy as np\n",
    "\n",
    "scores = cross_val_score(model, X, y, scoring=\"neg_mean_squared_error\", cv=5, n_jobs=-1)\n",
    "rmse = np.sqrt(-scores)\n",
    "print(\"CV RMSE:\", rmse)\n",
    "print(\"Mean RMSE:\", rmse.mean(), \"±\", rmse.std())\n"
   ]
  },
  {
   "cell_type": "markdown",
   "id": "21613012-38ed-4160-96d7-66bae4433625",
   "metadata": {},
   "source": [
    "# Hyperparameter Tuning"
   ]
  },
  {
   "cell_type": "code",
   "execution_count": 4,
   "id": "bdc90073-b2c0-4eeb-8d4c-857068b44378",
   "metadata": {},
   "outputs": [
    {
     "name": "stdout",
     "output_type": "stream",
     "text": [
      "Best params: {'scale__with_mean': False, 'scale__with_std': True}\n",
      "Best RMSE: 66868.83236138309\n"
     ]
    }
   ],
   "source": [
    "from sklearn.pipeline import Pipeline\n",
    "from sklearn.preprocessing import StandardScaler\n",
    "from sklearn.model_selection import GridSearchCV\n",
    "\n",
    "pipe = Pipeline([\n",
    "    (\"scale\", StandardScaler(with_mean=True)),\n",
    "    (\"lr\", LinearRegression())\n",
    "])\n",
    "param_grid = {\n",
    "    \"scale__with_mean\": [True, False],\n",
    "    \"scale__with_std\": [True, False],\n",
    "}\n",
    "gs = GridSearchCV(pipe, param_grid, scoring=\"neg_mean_squared_error\", cv=5, n_jobs=-1)\n",
    "gs.fit(X, y)\n",
    "import numpy as np\n",
    "print(\"Best params:\", gs.best_params_)\n",
    "print(\"Best RMSE:\", np.sqrt(-gs.best_score_))\n",
    "best_model = gs.best_estimator_\n"
   ]
  },
  {
   "cell_type": "markdown",
   "id": "dca32088-d642-4728-a9ee-8b1b69e4b75d",
   "metadata": {},
   "source": [
    "# Model Saving"
   ]
  },
  {
   "cell_type": "code",
   "execution_count": 5,
   "id": "2ceee052-93d4-47de-a942-829efef7fc6a",
   "metadata": {},
   "outputs": [
    {
     "data": {
      "text/plain": [
       "PosixPath('linear_regression_model.pkl')"
      ]
     },
     "execution_count": 5,
     "metadata": {},
     "output_type": "execute_result"
    }
   ],
   "source": [
    "import joblib, pathlib\n",
    "final_model = best_model if \"best_model\" in locals() else model\n",
    "out = pathlib.Path(\".\") / \"linear_regression_model.pkl\"\n",
    "joblib.dump(final_model, out)\n",
    "out\n"
   ]
  },
  {
   "cell_type": "code",
   "execution_count": null,
   "id": "2a967df8-e7fa-4607-bf03-05d86363b307",
   "metadata": {},
   "outputs": [],
   "source": []
  }
 ],
 "metadata": {
  "kernelspec": {
   "display_name": "Python 3.12 (default)",
   "language": "python",
   "name": "python3"
  },
  "language_info": {
   "codemirror_mode": {
    "name": "ipython",
    "version": 3
   },
   "file_extension": ".py",
   "mimetype": "text/x-python",
   "name": "python",
   "nbconvert_exporter": "python",
   "pygments_lexer": "ipython3",
   "version": "3.12.11"
  }
 },
 "nbformat": 4,
 "nbformat_minor": 5
}
