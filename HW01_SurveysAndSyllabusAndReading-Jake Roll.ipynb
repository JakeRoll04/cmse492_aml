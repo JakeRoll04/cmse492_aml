{
 "cells": [
  {
   "cell_type": "markdown",
   "metadata": {},
   "source": [
    "# Homework 01: Surveys, Syllabus, and Reading\n",
    "\n",
    "### <p style=\"text-align: right;\"> &#9989; Jake Roll."
   ]
  },
  {
   "cell_type": "markdown",
   "metadata": {},
   "source": [
    "\n",
    "Welcome to your first homework assignment! \n",
    "\n",
    "This assignment will help you set up the necessary tools and familiarize yourself with course materials essential for your success in this AML course.\n",
    "\n",
    "## Objectives\n",
    "By completing this homework, you will:\n",
    "\n",
    "* Familiarize yourself with course expectations and policies\n",
    "* Set up essential tools for the course\n",
    "* Assess your current Python knowledge\n",
    "* Begin engaging with course content"
   ]
  },
  {
   "cell_type": "markdown",
   "metadata": {
    "tags": [
     "task"
    ]
   },
   "source": [
    "## Part 1. Read Course Materials (10 points)\n",
    "\n",
    "There are two important documents for this course. In this problem you will find them, read them and summarize them.\n",
    "\n",
    "🗒️ **Task:** Read the course syllabus (available in Teams and D2L as a PDF). In a new markdown cell, summarize the portions of the syllabus regarding attendance and late assignments. "
   ]
  },
  {
   "cell_type": "markdown",
   "metadata": {},
   "source": [
    "✏️ **Answer: Attendance and participation is expected every week, so class attendance is required. Unexcused absence results in zero points for the day, including the in-class assignment points.  arriving late or leaving early also results in a zero.  Legitimate reasons to miss class must be arranged ahead of time. Three unexcused absences will reduce your grade by one step (ex. 4.0 to 3.5).  ICA's cannot be submitted if absent from class.  No late assignments accepted for ICA's, Homework assignments are accepted for a late grade up to 48 hours after the due date.  10% penalty if submitted within 24 hours of the deadline, 20% penalty if submitted within 24-48 hours after the deadline.**"
   ]
  },
  {
   "cell_type": "markdown",
   "metadata": {
    "tags": [
     "task"
    ]
   },
   "source": [
    "🗒️ **Task:** Read the AI policy (PDF). In a new markdown cell, summarize what you need to do to do when you use AI for an assignment."
   ]
  },
  {
   "cell_type": "markdown",
   "metadata": {},
   "source": [
    "✏️ **Answer: Never use AI solely for assignments or work.  Work should demonstrate our own work and AI assistance if used.  Cite the AI tool if used, such as the name, the version, and date used.  Always consider AI as potentially inaccurate.  Be able to understand code AI produced and comment which parts are AI.  If unsure about AI use, check with Professor.**"
   ]
  },
  {
   "cell_type": "markdown",
   "metadata": {
    "tags": [
     "task"
    ]
   },
   "source": [
    "## Part 2. GitHub Setup (10 points)\n",
    "\n",
    "You will use GitHub for your assignments, homework, and project. In addition to learning an important data science tool, this will allow you to retain all of your work beyond this course and share with people around the world. \n",
    "\n",
    "🗒️ **Task:**\n",
    "\n",
    "* Create a GitHub account (if you don't already have one)\n",
    "* If you are not already familiar with GH:\n",
    "   * [this](https://www.youtube.com/watch?v=tRZGeaHPoaw) is a great video - watch it slowly over the next week or so\n",
    "   * and, you can complete the GitHub Hello World guide: https://guides.github.com/activities/hello-world/\n",
    "* Create a new repository for this course and call it `cmse492_aml`\n",
    "\n",
    "In the markdown cell below add your github username and repo name. "
   ]
  },
  {
   "cell_type": "markdown",
   "metadata": {},
   "source": [
    "✏️ **Answer: Username: JakeRoll04, repo: cmse492_aml**"
   ]
  },
  {
   "cell_type": "markdown",
   "metadata": {
    "tags": [
     "task"
    ]
   },
   "source": [
    "## Part 3. Initial Surveys (10 points)\n",
    "\n",
    "🗒️ **Task:** Complete the [initial survey](https://forms.office.com/r/MeMQNSUCL9) _if you haven't already_. In the next markdown cell write \"Done\" once the survey is complete.\n",
    "\n"
   ]
  },
  {
   "cell_type": "markdown",
   "metadata": {
    "tags": [
     "text answer"
    ]
   },
   "source": [
    "✏️ **Answer: Done**"
   ]
  },
  {
   "cell_type": "markdown",
   "metadata": {
    "tags": [
     "task"
    ]
   },
   "source": [
    "🗒️ **Task:** Complete the Python/ML knowledge survey: [click here](https://forms.office.com/r/LKfNpa06Aj). Type \"Done\" below once it is completed."
   ]
  },
  {
   "cell_type": "markdown",
   "metadata": {
    "tags": [
     "text answer"
    ]
   },
   "source": [
    "✏️ **Answer: Done**"
   ]
  },
  {
   "cell_type": "markdown",
   "metadata": {},
   "source": [
    "## Part 4. Textbook Reading (10 points)\n",
    "\n",
    "Read the Preface and Chapter 1: The Machine Learning Landscape of _\"Hands-on Machine Learning with Scikit-Learn, Keras, and Tensorflow\"_ 3rd edition by Aurelien Geron. \n",
    "\n",
    "🗒️ **Task: (2 points)** In a markdown cell, give a very high-level overview of the book. What do you think of the book?\n",
    "   "
   ]
  },
  {
   "cell_type": "markdown",
   "metadata": {
    "tags": [
     "text answer"
    ]
   },
   "source": [
    "✏️ **Answer: I like it.  There is a lot of detail but the book simplifies it so new ML users can understand it.  It also reinforces concepts learned in CMSE 201 and 202 which helps.**"
   ]
  },
  {
   "cell_type": "markdown",
   "metadata": {},
   "source": [
    "🗒️ **Task: (4 points)** In the markdown cell below explain the **GEPT** framework explained in class and how this helps us define learning. How does this compare to your learning experience so far?"
   ]
  },
  {
   "cell_type": "markdown",
   "metadata": {},
   "source": [
    "GEPT is Goal, Experience, Performance, Testing.  Goal is what the learner is trying to achieve.  Experience is what data the learner is trying to collect.  Performance is how you measure success.  Testing is how your process served as a test for your hypothesis.  This helps define learning by separating tasks and completing one part at a time, so that you can complete end to end tasks.  This is different from my learning experience so far because it is more organized than my typical approach and is designed to help with ML tasks."
   ]
  },
  {
   "cell_type": "markdown",
   "metadata": {
    "vscode": {
     "languageId": "plaintext"
    }
   },
   "source": [
    "🗒️ **Task: (4 points)** In chapter 1 of your book there are two boxes with very interesting concepts; \n",
    "* the unreasonable effectiveness of data (UED) on page 27\n",
    "* the no free lunch theorem (NFLT) on page 37 (NFLT) \n",
    "\n",
    "In a brief summary below explain them in your own words and what can you conclude from them?\n",
    "\n",
    "**Your are not allowed to use AI for this answer**"
   ]
  },
  {
   "cell_type": "markdown",
   "metadata": {
    "tags": [
     "text answer"
    ]
   },
   "source": [
    "✏️ **Answer: UED states that models perform better with more data, but why that is stills puzzles many.  NFLT states that there is not one best model for every problem.  One model will be good for one problem, but maybe poor for another and outperformed by others. **"
   ]
  },
  {
   "cell_type": "markdown",
   "metadata": {},
   "source": [
    "---\n",
    "## Congratulations, you're done!\n",
    "\n",
    "Submit this assignment by uploading your notebook to the course Desire2Learn web page.  Go to the \"Homework\" folder, find the appropriate submission link, and upload everything there. Make sure your name is on it!"
   ]
  },
  {
   "cell_type": "markdown",
   "metadata": {},
   "source": [
    "&#169; Copyright 2023, Department of Computational Mathematics, Science and Engineering at Michigan State University."
   ]
  }
 ],
 "metadata": {
  "kernelspec": {
   "display_name": "Python 3.12 (default)",
   "language": "python",
   "name": "python3"
  },
  "language_info": {
   "codemirror_mode": {
    "name": "ipython",
    "version": 3
   },
   "file_extension": ".py",
   "mimetype": "text/x-python",
   "name": "python",
   "nbconvert_exporter": "python",
   "pygments_lexer": "ipython3",
   "version": "3.12.11"
  }
 },
 "nbformat": 4,
 "nbformat_minor": 4
}
